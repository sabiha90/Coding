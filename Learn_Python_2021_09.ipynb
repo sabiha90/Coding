{
  "nbformat": 4,
  "nbformat_minor": 0,
  "metadata": {
    "colab": {
      "name": "Learn Python 2021-09.ipynb",
      "provenance": [],
      "collapsed_sections": [],
      "include_colab_link": true
    },
    "kernelspec": {
      "name": "python3",
      "display_name": "Python 3"
    }
  },
  "cells": [
    {
      "cell_type": "markdown",
      "metadata": {
        "id": "view-in-github",
        "colab_type": "text"
      },
      "source": [
        "<a href=\"https://colab.research.google.com/github/sabiha90/Coding/blob/master/Learn_Python_2021_09.ipynb\" target=\"_parent\"><img src=\"https://colab.research.google.com/assets/colab-badge.svg\" alt=\"Open In Colab\"/></a>"
      ]
    },
    {
      "cell_type": "markdown",
      "metadata": {
        "id": "2W6KbAGS6ZVn"
      },
      "source": [
        "# Women Who Code Austin 🐍 Learn Python! 🐍 2021/09/15\n",
        "------\n",
        "\n"
      ]
    },
    {
      "cell_type": "markdown",
      "metadata": {
        "id": "LrYM_N_YWsnk"
      },
      "source": [
        "# Recursion 🔄🔄🔄\n",
        "\n",
        "## What is recursion?\n",
        "When we are doing the same thing repeatly. We put the \"thing\" we do into a function, and we call the function itself within the function body, in order to do it more times. This is recursion.\n",
        "\n",
        "## Why do we call the function itself inside the function, instead of using a loop?\n",
        "If the data is in a tree structure, what we do to a node would be the same as what we'll do to its children. It's natural to write the code in a recursive manner.\n",
        "\n",
        "Or, we are dealing with a big chunk of data, which can be divided into smaller chunks. If we need to use the result of the function, which deals with a smaller chunk of data, when we deal with the larger chunk, we have to call the function itself inside itself.\n",
        "\n",
        "\n",
        "\n"
      ]
    },
    {
      "cell_type": "markdown",
      "metadata": {
        "id": "sO85Bph1vykO"
      },
      "source": [
        "## Org chart example\n",
        "\n",
        "![org chart](https://drive.google.com/uc?export=view&id=1gOK20GhOWa21UcQeQqfSyCNDSxsjtLT8)\n",
        "1. Get the person we want to talk to. When we start, this is the root node (CEO).\n",
        "1. Get the name/title/etc from the person\n",
        "1. Ask them who are their direct reports\n",
        "1. Repeat the same thing for all the direct reports"
      ]
    },
    {
      "cell_type": "code",
      "metadata": {
        "id": "RvmQ78Afwl4i"
      },
      "source": [
        "def depth_first_search(person):\n",
        "  # First, get people's title and names \n",
        "  print(\"-----\")\n",
        "  print(person.title)\n",
        "  print(person.name)\n",
        "  # Then, get their direct report, and repeat this process!\n",
        "  for p in person.children:\n",
        "    depth_first_search(p)   # << Calling the function itself. This is recursion!\n",
        "\n",
        "depth_first_search(org_chart.root)"
      ],
      "execution_count": null,
      "outputs": []
    },
    {
      "cell_type": "markdown",
      "metadata": {
        "id": "Ell1vHrWtOKy"
      },
      "source": [
        "## Print out all the folders and files in a directory\n",
        "\n",
        "```\n",
        "my-app\n",
        "├── src\n",
        "│  ├── main.py\n",
        "│  └── model\n",
        "│     ├── product.py\n",
        "│     └── user.py\n",
        "├── config\n",
        "│  ├── log.config\n",
        "│  └── database.config\n",
        "├── .git\n",
        "└── README.md\n",
        "```\n",
        "\n",
        "We want to print out `my-app/src/model/product.py`"
      ]
    },
    {
      "cell_type": "code",
      "metadata": {
        "id": "LeCgqrmZ0sFi"
      },
      "source": [
        "def print_files(prefix, current_path):\n",
        "  # Print out the info\n",
        "  print(f\"{prefix}/{current_path}\")\n",
        "  for f in os.listdir():\n",
        "    print_files(f\"{prefix}/{current_path}\", f) \n",
        "\n",
        "print_files(org_chart.root)"
      ],
      "execution_count": null,
      "outputs": []
    },
    {
      "cell_type": "markdown",
      "metadata": {
        "id": "a5TzXYiIGcHV"
      },
      "source": [
        "## Components of recursion\n",
        "1. Base case: the case that the there are no more things to do\n",
        "1. General (Recursion) case: \n",
        "  1. Divide the problem\n",
        "  1. Call the function itself\n",
        "  1. Combine the results \n",
        "\n",
        "\n",
        "\n",
        "\n"
      ]
    },
    {
      "cell_type": "code",
      "metadata": {
        "id": "OG7jA6E90byr"
      },
      "source": [
        "def some_recursive_function(input):\n",
        "  # base case\n",
        "  if base_case:\n",
        "    return base_case_return_value\n",
        "  # general case\n",
        "  current_result = do_something_about_current_input(input)\n",
        "  next_inputs = split_inputs(input)\n",
        "  return_values = []\n",
        "  for next_input in next_inputs:\n",
        "    return_values.append(some_recursive_function(next_input))\n",
        "  return combine_return_values(current_result, return_values)"
      ],
      "execution_count": null,
      "outputs": []
    },
    {
      "cell_type": "markdown",
      "metadata": {
        "id": "boHEUyhDCWxe"
      },
      "source": [
        "## Number of Dice Rolls With Target Sum\n",
        "You have d dice and each die has f faces numbered 1, 2, ..., f. You are given three integers d, f, and target.\n",
        "\n",
        "Return the number of possible ways to roll the dice so the sum of the face-up numbers equals target.\n",
        "\n",
        "Example 1:\n",
        "* Input: dices = 1, faces = 6, target = 3\n",
        "* Output: 1\n",
        "* Explanation: \n",
        "You throw one die with 6 faces.  There is only one way to get a sum of 3.\n",
        "\n",
        "Example 2:\n",
        "* Input: dices = 2, faces = 6, target = 7\n",
        "* Output: 6\n",
        "* Explanation: \n",
        "You throw two dice, each with 6 faces.  There are 6 ways to get a sum of 7:\n",
        "1+6, 2+5, 3+4, 4+3, 5+2, 6+1.\n",
        "\n",
        "Example 3:\n",
        "* Input: dices = 3, faces = 5, target = 10\n",
        "* Output: 18\n",
        "* Explanation: \n",
        "You throw three dice, each with 5 faces.  There are 5+4+1, 5+3+2, 5+2+3, 5+1+4, 4....\n",
        "\n",
        "(From https://leetcode.com/problems/number-of-dice-rolls-with-target-sum/)"
      ]
    },
    {
      "cell_type": "markdown",
      "metadata": {
        "id": "23JFd9uVSRsI"
      },
      "source": [
        "### Identifying this is suitable case for recursion\n",
        "\n",
        "In the case of dices = 3, faces = 5, target = 10\n",
        "\n",
        "1. First we assign the first dice to be 5\n",
        "  * Now we have 2 dices, both 5 faces, and target is 10 - 5 = 5\n",
        "  * The problem now becomes, how many ways for d = 2, f = 5, target = 5. The algorithm should be the same, just the input is different\n",
        "  * Once we figure that number of ways, we add it to the total ways\n",
        "1. Now we assign the first dice to be 4, repeat\n",
        "\n",
        "So, since we\n",
        "1. keep doing the same thing\n",
        "1. use the result of the calculation in the calculation itself, \n",
        "\n",
        "it's recursion!"
      ]
    },
    {
      "cell_type": "markdown",
      "metadata": {
        "id": "4p_QBSrs7q5a"
      },
      "source": [
        "### Recursion structure\n",
        "\n",
        "#### Base case\n",
        "Base case is when we don't need to call the function itself. \n",
        "1. If we only have 1 dice, and \n",
        "  * if target is smaller or equals than faces, there's 1 way\n",
        "  * if target is larger than faces, there's 0 way\n",
        "1. If the number of dices equals the target, there's 1 way\n",
        "1. If we have more dices than target, there's 0 way"
      ]
    },
    {
      "cell_type": "code",
      "metadata": {
        "id": "upo85OXV8uX1"
      },
      "source": [
        "def numRollsToTarget(self, d: int, f: int, target: int) -> int:\n",
        "        # no way to get to the outcome\n",
        "        if d > target or (d is 1 and target > f):\n",
        "            return 0\n",
        "        # case for all 1s or last dice\n",
        "        if d is target or (d is 1 and f >= target):\n",
        "            return 1"
      ],
      "execution_count": null,
      "outputs": []
    },
    {
      "cell_type": "markdown",
      "metadata": {
        "id": "g_8tbKHl8zR0"
      },
      "source": [
        "### General case\n",
        "\n",
        "1. We assign one dice to possible facces\n",
        "1. We decrease the number of dices by 1, and the target by the face we assign it to, \n",
        "1. We figure out the number of ways for the above case (calling the function itself)\n",
        "1. We sum the ways up"
      ]
    },
    {
      "cell_type": "markdown",
      "metadata": {
        "id": "j2SLNU_wjbLs"
      },
      "source": [
        "## Translate mental model to code!\n",
        "\n"
      ]
    },
    {
      "cell_type": "code",
      "metadata": {
        "id": "-B322NcDjeup"
      },
      "source": [
        "class Solution:\n",
        "    def numRollsToTarget(self, d: int, f: int, target: int) -> int:\n",
        "        # no way to get to the outcome\n",
        "        if d > target or (d is 1 and target > f):\n",
        "            return 0\n",
        "        # case for all 1s or last dice\n",
        "        if d is target or (d is 1 and f >= target):\n",
        "            return 1\n",
        "        total_ways = 0\n",
        "        for i in range(1, f + 1):\n",
        "            x = self.numRollsToTarget(d-1, f, target - i)\n",
        "            total_ways += x\n",
        "        return total_ways\n",
        "      "
      ],
      "execution_count": null,
      "outputs": []
    }
  ]
}